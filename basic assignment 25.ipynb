{
 "cells": [
  {
   "cell_type": "code",
   "execution_count": 1,
   "metadata": {},
   "outputs": [],
   "source": [
    "#What is the difference between enclosing a list comprehension in square brackets and parentheses?"
   ]
  },
  {
   "cell_type": "code",
   "execution_count": 13,
   "metadata": {},
   "outputs": [
    {
     "name": "stdout",
     "output_type": "stream",
     "text": [
      "<generator object <genexpr> at 0x0000022CE3EA83C0>\n",
      "[0, 2, 4, 6, 8, 10, 12, 14, 16, 18]\n"
     ]
    }
   ],
   "source": [
    "l = (n*2 for n in range(10))\n",
    "ln =[n*2 for n in range(10)]\n",
    "print(l)\n",
    "print(ln)\n",
    "# when it is enclosed with square brackets it return result in list format.\n",
    "# when it is enclosed with paranthesis it is generator expression it canniot be accesed by index"
   ]
  },
  {
   "cell_type": "code",
   "execution_count": 17,
   "metadata": {},
   "outputs": [
    {
     "name": "stdout",
     "output_type": "stream",
     "text": [
      "Good\n",
      "For\n",
      "Health\n",
      "The square of numbers 1,2,3 are : \n",
      "1\n",
      "4\n",
      "9\n"
     ]
    }
   ],
   "source": [
    "#What is the relationship between generators and iterators?\n",
    "# An iterator is an object which contains a countable number of values and it is used to iterate over iterable objects like list, tuples, sets, etc.\n",
    " #iter() keyword is used to create an iterator containing an iterable object.\n",
    " #next() keyword is used to call the next element in the iterable object.\n",
    "#Class is used to implement an iterator\n",
    "#Local Variables aren’t used here. \n",
    "#Every iterator is not a generator\n",
    "iter_list = iter(['Good', 'For', 'Health'])Local Variables aren’t used here. \n",
    "print(next(iter_list))\n",
    "print(next(iter_list))\n",
    "print(next(iter_list))\n",
    "\n",
    "# It is another way of creating iterators in a simple way where it uses the keyword “yield” instead of returning it in a defined function\n",
    "#Here, the yield function returns the data without affecting or exiting the function. It will return a sequence of data in an iterable format where we need to iterate over the sequence to use the data \n",
    "#Function is used to implement a generator.\n",
    "#All the local variables before the yield function are stored. \n",
    "#Every generator is an iterator\n",
    "\n",
    "def square_numbers(n):\n",
    "    for i in range(1, n+1):\n",
    "        yield i*i\n",
    "  \n",
    "  \n",
    "a = square_numbers(3)\n",
    "  \n",
    "print(\"The square of numbers 1,2,3 are : \")\n",
    "print(next(a))\n",
    "print(next(a))\n",
    "print(next(a))"
   ]
  },
  {
   "cell_type": "code",
   "execution_count": 18,
   "metadata": {},
   "outputs": [],
   "source": [
    "#3) What are the signs that a function is a generator function?\n",
    "# Here, the yield function returns the data without affecting or exiting the function. \n",
    "# It will return a sequence of data in an iterable format where we need to iterate over the sequence to use the data \n"
   ]
  },
  {
   "cell_type": "code",
   "execution_count": 19,
   "metadata": {},
   "outputs": [],
   "source": [
    "#What is the purpose of a yield statement?\n",
    "#It will return a sequence of data in an iterable format where we need to iterate over the sequence to use the data \n",
    "# is used to return from a function without destroying the states of its local variable and when the function is called, the execution starts from the last yield statement"
   ]
  },
  {
   "cell_type": "code",
   "execution_count": null,
   "metadata": {},
   "outputs": [],
   "source": [
    "# What is the relationship between map calls and list comprehensions? Make a comparison and contrast between the two.\n",
    "# When we want to compute this function for different values in a single line of code . This is where map() function plays its role !\n",
    " # List Comprehension is a substitute for the lambda function, map(), filter() and reduce(). It follows the form of the mathematical set-builder notation. It provide a concise way to create lists.\n",
    "\n",
    "    # List comprehension is more concise and easier to read as compared to map.\n",
    "#List comprehension allows filtering. In map, we have no such facility. For example, to print all even numbers in range of 100, we can write [n for n in range(100) if n%2 == 0]. There is no alternate for it in map\n",
    "#List comprehension are used when a list of results is required as map only returns a map object and does not return any list.\n",
    "#List comprehension is faster than map when we need to evaluate expressions that are too long or complicated to express\n",
    "#Map is faster in case of calling an already defined function (as no lambda is required)"
   ]
  }
 ],
 "metadata": {
  "kernelspec": {
   "display_name": "Python 3",
   "language": "python",
   "name": "python3"
  },
  "language_info": {
   "codemirror_mode": {
    "name": "ipython",
    "version": 3
   },
   "file_extension": ".py",
   "mimetype": "text/x-python",
   "name": "python",
   "nbconvert_exporter": "python",
   "pygments_lexer": "ipython3",
   "version": "3.8.5"
  }
 },
 "nbformat": 4,
 "nbformat_minor": 4
}
